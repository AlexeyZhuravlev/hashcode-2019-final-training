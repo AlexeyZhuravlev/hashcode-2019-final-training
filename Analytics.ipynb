{
 "cells": [
  {
   "cell_type": "code",
   "execution_count": 27,
   "metadata": {},
   "outputs": [
    {
     "name": "stdout",
     "output_type": "stream",
     "text": [
      "==================================================\n",
      "a\n",
      "6 3 2\n",
      "mean compilation time 14.666666666666666\n",
      "mean replication time 30.5\n",
      "connected components 1\n",
      "components with targets 1\n",
      "sum goals 58\n",
      "sum goals and deadlines 196\n",
      "==================================================\n",
      "b\n",
      "5150 50 100\n",
      "mean compilation time 149.88582524271845\n",
      "mean replication time 157.70970873786408\n",
      "connected components 50\n",
      "components with targets 50\n",
      "sum goals 992418\n",
      "sum goals and deadlines 1764330\n",
      "==================================================\n",
      "c\n",
      "9896 20 30\n",
      "mean compilation time 961.336600646726\n",
      "mean replication time 608.2289814066289\n",
      "connected components 140\n",
      "components with targets 20\n",
      "sum goals 2690568\n",
      "sum goals and deadlines 4401417\n",
      "==================================================\n",
      "d\n",
      "6409 100 10\n",
      "mean compilation time 1144.4557653300046\n",
      "mean replication time 511.0767670463411\n",
      "connected components 29\n",
      "components with targets 9\n",
      "sum goals 23561\n",
      "sum goals and deadlines 5732371\n",
      "==================================================\n",
      "e\n",
      "591 11 3\n",
      "mean compilation time 11016.901861252116\n",
      "mean replication time 1.0\n",
      "connected components 11\n",
      "components with targets 11\n",
      "sum goals 873813\n",
      "sum goals and deadlines 3051490\n",
      "==================================================\n",
      "f\n",
      "9992 4336 100\n",
      "mean compilation time 252506.06785428344\n",
      "mean replication time 499667.1757405925\n",
      "connected components 1\n",
      "components with targets 1\n",
      "sum goals 2178105\n",
      "sum goals and deadlines 74449264\n"
     ]
    }
   ],
   "source": [
    "import os\n",
    "import networkx as nx\n",
    "import numpy as np\n",
    "\n",
    "testdir = 'test'\n",
    "graphs = {}\n",
    "for filename in sorted(os.listdir(testdir)):\n",
    "    if not filename.endswith('in'):\n",
    "        continue\n",
    "    fname = filename.split('.')[0]\n",
    "    with open(os.path.join(testdir, filename)) as f:\n",
    "        G = nx.Graph()\n",
    "        C, T, S = map(int, f.readline().strip().split())\n",
    "        print('='*50)\n",
    "        print(fname)\n",
    "        print(C, T, S)\n",
    "        sum_c, sum_r = 0., 0.\n",
    "        for i in range(C):\n",
    "            name, c, r = f.readline().strip().split()\n",
    "            sum_c += int(c)\n",
    "            sum_r += int(r)\n",
    "            \n",
    "            G.add_node(name)\n",
    "            deps = f.readline().strip().split()[1:]\n",
    "            for d in deps:\n",
    "                G.add_edge(d, name)\n",
    "                \n",
    "        targets = {}\n",
    "        sum_g, sum_d = 0, 0\n",
    "        for i in range(T):\n",
    "            name, deadline, goal = f.readline().strip().split()\n",
    "            targets[name] = (deadline, goal)\n",
    "            sum_g += int(goal)\n",
    "            sum_d += int(deadline)\n",
    "        \n",
    "        print('mean compilation time', sum_c / C)\n",
    "        print('mean replication time', sum_r / C)\n",
    "        print('connected components', len([c for c in nx.connected_components(G)]))\n",
    "        remove = True\n",
    "        while remove:\n",
    "            remove = False\n",
    "            for c in nx.connected_components(G):\n",
    "                if len(set(c) & set(targets.keys())) == 0:\n",
    "                    remove = True\n",
    "                    for n in c:\n",
    "                        G.remove_node(n)\n",
    "                    break\n",
    "            \n",
    "        print('components with targets', len([c for c in nx.connected_components(G)]))\n",
    "        graphs[fname] = G\n",
    "        print('sum goals', sum_g)\n",
    "        print('sum goals and deadlines', sum_g + sum_d)\n",
    "#     break"
   ]
  },
  {
   "cell_type": "code",
   "execution_count": 22,
   "metadata": {},
   "outputs": [
    {
     "data": {
      "text/plain": [
       "dict_keys(['c5', 'cx1j', 'cy06', 'ct3q', 'ce7', 'c1391137'])"
      ]
     },
     "execution_count": 22,
     "metadata": {},
     "output_type": "execute_result"
    }
   ],
   "source": [
    "graphs.keys()"
   ]
  },
  {
   "cell_type": "code",
   "execution_count": 31,
   "metadata": {},
   "outputs": [
    {
     "data": {
      "image/png": "[encoded data removed]",
      "text/plain": [
       "<matplotlib.figure.Figure at 0x152d126160>"
      ]
     },
     "metadata": {},
     "output_type": "display_data"
    }
   ],
   "source": [
    "import matplotlib.pyplot as plt\n",
    "%matplotlib inline\n",
    "nx.draw(graphs['f'])"
   ]
  },
  {
   "cell_type": "code",
   "execution_count": null,
   "metadata": {
    "collapsed": true
   },
   "outputs": [],
   "source": [
    "nx.connected_components(G)"
   ]
  },
  {
   "cell_type": "code",
   "execution_count": 8,
   "metadata": {},
   "outputs": [
    {
     "name": "stdout",
     "output_type": "stream",
     "text": [
      "Requirement already satisfied: networkx in /Users/tkhismatullin/anaconda3/lib/python3.6/site-packages (2.2)\n",
      "Requirement already satisfied: decorator>=4.3.0 in /Users/tkhismatullin/anaconda3/lib/python3.6/site-packages (from networkx) (4.3.0)\n",
      "\u001b[33mYou are using pip version 10.0.1, however version 20.0.2 is available.\n",
      "You should consider upgrading via the 'pip install --upgrade pip' command.\u001b[0m\n"
     ]
    }
   ],
   "source": [
    "!pip install networkx"
   ]
  },
  {
   "cell_type": "code",
   "execution_count": null,
   "metadata": {
    "collapsed": true
   },
   "outputs": [],
   "source": []
  }
 ],
 "metadata": {
  "kernelspec": {
   "display_name": "Python 3",
   "language": "python",
   "name": "python3"
  },
  "language_info": {
   "codemirror_mode": {
    "name": "ipython",
    "version": 3
   },
   "file_extension": ".py",
   "mimetype": "text/x-python",
   "name": "python",
   "nbconvert_exporter": "python",
   "pygments_lexer": "ipython3",
   "version": "3.6.3"
  }
 },
 "nbformat": 4,
 "nbformat_minor": 2
}
